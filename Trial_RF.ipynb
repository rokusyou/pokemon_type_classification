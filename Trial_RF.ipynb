{
 "cells": [
  {
   "cell_type": "code",
   "execution_count": 9,
   "metadata": {},
   "outputs": [],
   "source": [
    "# 1. Pre-Processing\n",
    "import  pk_pre_process as pk_pre\n",
    "pk_data,pk_label = pk_pre.pk_preprocess()"
   ]
  },
  {
   "cell_type": "code",
   "execution_count": 19,
   "metadata": {
    "collapsed": true
   },
   "outputs": [],
   "source": [
    "# 2. Split train & test \n",
    "import split_pk_gene\n",
    "\n",
    "# first generation(RED & GREEN)\n",
    "data_train,label_train,data_test,label_test = split_pk_gene.split_pk_gene(\"first\",pk_data,pk_label)\n",
    "\n",
    "# 7th generation (SUN & MOON)\n",
    "data_train,label_train,data_test,label_test = split_pk_gene.split_pk_gene(\"sm\",pk_data,pk_label)\n"
   ]
  },
  {
   "cell_type": "code",
   "execution_count": 23,
   "metadata": {},
   "outputs": [
    {
     "name": "stdout",
     "output_type": "stream",
     "text": [
      "Accuracy rate = 0.83\n"
     ]
    }
   ],
   "source": [
    "# . Learing by RandomForest\n",
    "from sklearn.ensemble import RandomForestClassifier\n",
    "estimator = RandomForestClassifier(n_estimators = 1000)\n",
    "estimator.fit(data_train, label_train)\n",
    "\n",
    "# 4.\n",
    "\n",
    "score = estimator.score(data_test, label_test)\n",
    "score = round(score,2)\n",
    "print(\"Accuracy rate = %s\" % score)\n"
   ]
  },
  {
   "cell_type": "code",
   "execution_count": null,
   "metadata": {
    "collapsed": true
   },
   "outputs": [],
   "source": []
  }
 ],
 "metadata": {
  "kernelspec": {
   "display_name": "Python 3",
   "language": "python",
   "name": "python3"
  },
  "language_info": {
   "codemirror_mode": {
    "name": "ipython",
    "version": 3
   },
   "file_extension": ".py",
   "mimetype": "text/x-python",
   "name": "python",
   "nbconvert_exporter": "python",
   "pygments_lexer": "ipython3",
   "version": "3.6.2"
  }
 },
 "nbformat": 4,
 "nbformat_minor": 2
}
