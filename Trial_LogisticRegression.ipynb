{
 "cells": [
  {
   "cell_type": "code",
   "execution_count": 1,
   "metadata": {
    "collapsed": true
   },
   "outputs": [],
   "source": [
    "# 1.Pre-Processing\n",
    "import  pk_pre_process as pk_pre\n",
    "pk_data,pk_label = pk_pre.pk_preprocess()\n",
    "# 2.Split train & test \n",
    "import split_pk_gene\n",
    "\n",
    "# Test data is first generation(RED & GREEN)\n",
    "X_train,y_train,X_test,y_test = split_pk_gene.split_pk_gene(\"first\",pk_data,pk_label)\n",
    "\n",
    "# Test data is 7th generation (SUN & MOON)\n",
    "#X_train,y_train,X_test,y_test  = split_pk_gene.split_pk_gene(\"sm\",pk_data,pk_label)"
   ]
  },
  {
   "cell_type": "code",
   "execution_count": 2,
   "metadata": {},
   "outputs": [
    {
     "data": {
      "text/plain": [
       "LogisticRegression(C=100.0, class_weight=None, dual=False, fit_intercept=True,\n",
       "          intercept_scaling=1, max_iter=100, multi_class='ovr', n_jobs=1,\n",
       "          penalty='l2', random_state=1, solver='liblinear', tol=0.0001,\n",
       "          verbose=0, warm_start=False)"
      ]
     },
     "execution_count": 2,
     "metadata": {},
     "output_type": "execute_result"
    }
   ],
   "source": [
    "import numpy as np\n",
    "from sklearn.linear_model import LogisticRegression\n",
    "\n",
    "lr = LogisticRegression(C=100.0, random_state=1)\n",
    "lr.fit(X_train,y_train)"
   ]
  },
  {
   "cell_type": "code",
   "execution_count": 4,
   "metadata": {},
   "outputs": [
    {
     "name": "stdout",
     "output_type": "stream",
     "text": [
      "Accuracy rate = 0.8\n"
     ]
    }
   ],
   "source": [
    "from common.tools import cal_accuracy_r\n",
    "acc_r = cal_accuracy_r(lr,X_test,y_test)\n",
    "print(\"Accuracy rate = %s\" % acc_r)"
   ]
  },
  {
   "cell_type": "code",
   "execution_count": null,
   "metadata": {
    "collapsed": true
   },
   "outputs": [],
   "source": []
  }
 ],
 "metadata": {
  "kernelspec": {
   "display_name": "Python 3",
   "language": "python",
   "name": "python3"
  },
  "language_info": {
   "codemirror_mode": {
    "name": "ipython",
    "version": 3
   },
   "file_extension": ".py",
   "mimetype": "text/x-python",
   "name": "python",
   "nbconvert_exporter": "python",
   "pygments_lexer": "ipython3",
   "version": "3.6.2"
  }
 },
 "nbformat": 4,
 "nbformat_minor": 2
}
