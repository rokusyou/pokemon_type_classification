{
 "cells": [
  {
   "cell_type": "code",
   "execution_count": 3,
   "metadata": {
    "collapsed": true
   },
   "outputs": [],
   "source": [
    "# 1.Pre-Processing\n",
    "import  pk_pre_process as pk_pre\n",
    "pk_data,pk_label = pk_pre.pk_preprocess()"
   ]
  },
  {
   "cell_type": "code",
   "execution_count": 11,
   "metadata": {},
   "outputs": [],
   "source": [
    "# 2.Split train & test \n",
    "import split_pk_gene\n",
    "\n",
    "# first generation(RED & GREEN)\n",
    "X_train,y_train,X_test,y_test = split_pk_gene.split_pk_gene(\"first\",pk_data,pk_label)\n",
    "\n"
   ]
  },
  {
   "cell_type": "code",
   "execution_count": 12,
   "metadata": {},
   "outputs": [
    {
     "data": {
      "text/plain": [
       "array([ 1,  1,  1,  2,  2,  2,  3,  3,  3,  4,  4,  4,  4,  4,  4,  5,  5,\n",
       "        5,  5,  5,  5,  5,  6,  6,  7,  7,  8,  8,  6,  6,  6,  6,  6,  6,\n",
       "        9,  9,  2,  2,  5,  5,  6,  6,  1,  1,  1,  4,  4,  4,  4,  8,  8,\n",
       "        5,  5,  3,  3, 10, 10,  2,  2,  3,  3,  3, 11, 11, 11, 10, 10, 10,\n",
       "        1,  1,  1,  3,  3, 12, 12, 12,  2,  2,  3,  3,  7,  7,  5,  5,  5,\n",
       "        3,  3,  6,  6,  3,  3, 13, 13, 13, 12, 11, 11,  3,  3,  7,  7,  1,\n",
       "        1,  8,  8, 10, 10,  5,  6,  6,  8,  8,  5,  1,  5,  3,  3,  3,  3,\n",
       "        3,  3, 11,  4, 14,  7,  2,  4,  5,  3,  3,  3,  5,  5,  3,  7,  2,\n",
       "        5, 12, 12, 12, 12, 12,  5, 14,  7,  2, 15, 15, 15, 11])"
      ]
     },
     "execution_count": 12,
     "metadata": {},
     "output_type": "execute_result"
    }
   ],
   "source": [
    "y_test"
   ]
  },
  {
   "cell_type": "code",
   "execution_count": 13,
   "metadata": {},
   "outputs": [],
   "source": [
    "from keras import models\n",
    "from keras import layers\n",
    "\n",
    "network = models.Sequential()\n",
    "a_ , all_skills_num = X_train.shape \n",
    "\n",
    "network.add(layers.Dense(512, activation='relu', input_shape=(all_skills_num,)))\n",
    "network.add(layers.Dense(19,activation='softmax'))"
   ]
  },
  {
   "cell_type": "code",
   "execution_count": 14,
   "metadata": {
    "collapsed": true
   },
   "outputs": [],
   "source": [
    "network.compile(optimizer='rmsprop',\n",
    "               loss='categorical_crossentropy',\n",
    "               metrics=['accuracy'])"
   ]
  },
  {
   "cell_type": "code",
   "execution_count": 15,
   "metadata": {},
   "outputs": [
    {
     "data": {
      "text/plain": [
       "(650, 644)"
      ]
     },
     "execution_count": 15,
     "metadata": {},
     "output_type": "execute_result"
    }
   ],
   "source": [
    "#y_train.shape\n",
    "y_test.shape\n",
    "X_train.shape\n",
    "#y.shape"
   ]
  },
  {
   "cell_type": "code",
   "execution_count": 16,
   "metadata": {
    "collapsed": true
   },
   "outputs": [],
   "source": [
    "#  Preparing Label\n",
    "from keras.utils import to_categorical\n",
    "\n",
    "y = np.hstack((y_train,y_test))\n",
    "y = to_categorical(y)\n",
    "y_test  = y[:150]\n",
    "y_train = y[150:]"
   ]
  },
  {
   "cell_type": "code",
   "execution_count": 17,
   "metadata": {},
   "outputs": [
    {
     "name": "stdout",
     "output_type": "stream",
     "text": [
      "Epoch 1/100\n",
      "650/650 [==============================] - 0s 660us/step - loss: 2.8436 - acc: 0.1477\n",
      "Epoch 2/100\n",
      "650/650 [==============================] - 0s 187us/step - loss: 2.4704 - acc: 0.3077\n",
      "Epoch 3/100\n",
      "650/650 [==============================] - 0s 162us/step - loss: 2.2514 - acc: 0.4415\n",
      "Epoch 4/100\n",
      "650/650 [==============================] - 0s 169us/step - loss: 2.0722 - acc: 0.5092\n",
      "Epoch 5/100\n",
      "650/650 [==============================] - 0s 170us/step - loss: 1.9090 - acc: 0.5754\n",
      "Epoch 6/100\n",
      "650/650 [==============================] - 0s 197us/step - loss: 1.7577 - acc: 0.6323\n",
      "Epoch 7/100\n",
      "650/650 [==============================] - 0s 173us/step - loss: 1.6172 - acc: 0.6815\n",
      "Epoch 8/100\n",
      "650/650 [==============================] - 0s 166us/step - loss: 1.4832 - acc: 0.7108\n",
      "Epoch 9/100\n",
      "650/650 [==============================] - 0s 170us/step - loss: 1.3598 - acc: 0.7400\n",
      "Epoch 10/100\n",
      "650/650 [==============================] - 0s 169us/step - loss: 1.2426 - acc: 0.7708\n",
      "Epoch 11/100\n",
      "650/650 [==============================] - 0s 184us/step - loss: 1.1401 - acc: 0.7815\n",
      "Epoch 12/100\n",
      "650/650 [==============================] - 0s 168us/step - loss: 1.0385 - acc: 0.8046\n",
      "Epoch 13/100\n",
      "650/650 [==============================] - 0s 186us/step - loss: 0.9496 - acc: 0.8246\n",
      "Epoch 14/100\n",
      "650/650 [==============================] - 0s 201us/step - loss: 0.8665 - acc: 0.8369\n",
      "Epoch 15/100\n",
      "650/650 [==============================] - 0s 174us/step - loss: 0.7921 - acc: 0.8462\n",
      "Epoch 16/100\n",
      "650/650 [==============================] - 0s 166us/step - loss: 0.7263 - acc: 0.8492\n",
      "Epoch 17/100\n",
      "650/650 [==============================] - 0s 200us/step - loss: 0.6607 - acc: 0.8677\n",
      "Epoch 18/100\n",
      "650/650 [==============================] - 0s 180us/step - loss: 0.6074 - acc: 0.8785\n",
      "Epoch 19/100\n",
      "650/650 [==============================] - 0s 185us/step - loss: 0.5612 - acc: 0.8723\n",
      "Epoch 20/100\n",
      "650/650 [==============================] - 0s 308us/step - loss: 0.5173 - acc: 0.8923\n",
      "Epoch 21/100\n",
      "650/650 [==============================] - 0s 276us/step - loss: 0.4769 - acc: 0.9046\n",
      "Epoch 22/100\n",
      "650/650 [==============================] - 0s 237us/step - loss: 0.4449 - acc: 0.8985\n",
      "Epoch 23/100\n",
      "650/650 [==============================] - 0s 209us/step - loss: 0.4114 - acc: 0.9185\n",
      "Epoch 24/100\n",
      "650/650 [==============================] - 0s 193us/step - loss: 0.3831 - acc: 0.9046\n",
      "Epoch 25/100\n",
      "650/650 [==============================] - 0s 202us/step - loss: 0.3628 - acc: 0.9092\n",
      "Epoch 26/100\n",
      "650/650 [==============================] - 0s 221us/step - loss: 0.3400 - acc: 0.9108\n",
      "Epoch 27/100\n",
      "650/650 [==============================] - 0s 182us/step - loss: 0.3216 - acc: 0.9169\n",
      "Epoch 28/100\n",
      "650/650 [==============================] - 0s 185us/step - loss: 0.3026 - acc: 0.9077\n",
      "Epoch 29/100\n",
      "650/650 [==============================] - 0s 215us/step - loss: 0.2860 - acc: 0.9169\n",
      "Epoch 30/100\n",
      "650/650 [==============================] - 0s 274us/step - loss: 0.2717 - acc: 0.9169\n",
      "Epoch 31/100\n",
      "650/650 [==============================] - 0s 185us/step - loss: 0.2587 - acc: 0.9200\n",
      "Epoch 32/100\n",
      "650/650 [==============================] - 0s 203us/step - loss: 0.2478 - acc: 0.9215\n",
      "Epoch 33/100\n",
      "650/650 [==============================] - 0s 216us/step - loss: 0.2339 - acc: 0.9200\n",
      "Epoch 34/100\n",
      "650/650 [==============================] - 0s 168us/step - loss: 0.2287 - acc: 0.9277\n",
      "Epoch 35/100\n",
      "650/650 [==============================] - 0s 230us/step - loss: 0.2203 - acc: 0.9262\n",
      "Epoch 36/100\n",
      "650/650 [==============================] - 0s 269us/step - loss: 0.2088 - acc: 0.9308\n",
      "Epoch 37/100\n",
      "650/650 [==============================] - 0s 176us/step - loss: 0.2060 - acc: 0.9308\n",
      "Epoch 38/100\n",
      "650/650 [==============================] - 0s 269us/step - loss: 0.1982 - acc: 0.9200\n",
      "Epoch 39/100\n",
      "650/650 [==============================] - 0s 247us/step - loss: 0.1910 - acc: 0.9277\n",
      "Epoch 40/100\n",
      "650/650 [==============================] - 0s 192us/step - loss: 0.1878 - acc: 0.9323\n",
      "Epoch 41/100\n",
      "650/650 [==============================] - 0s 196us/step - loss: 0.1806 - acc: 0.9308\n",
      "Epoch 42/100\n",
      "650/650 [==============================] - 0s 176us/step - loss: 0.1760 - acc: 0.9262\n",
      "Epoch 43/100\n",
      "650/650 [==============================] - 0s 185us/step - loss: 0.1715 - acc: 0.9231\n",
      "Epoch 44/100\n",
      "650/650 [==============================] - 0s 177us/step - loss: 0.1657 - acc: 0.9369\n",
      "Epoch 45/100\n",
      "650/650 [==============================] - 0s 284us/step - loss: 0.1630 - acc: 0.9369\n",
      "Epoch 46/100\n",
      "650/650 [==============================] - 0s 189us/step - loss: 0.1609 - acc: 0.9354\n",
      "Epoch 47/100\n",
      "650/650 [==============================] - 0s 223us/step - loss: 0.1535 - acc: 0.9446\n",
      "Epoch 48/100\n",
      "650/650 [==============================] - 0s 308us/step - loss: 0.1551 - acc: 0.9323\n",
      "Epoch 49/100\n",
      "650/650 [==============================] - 0s 201us/step - loss: 0.1500 - acc: 0.9369\n",
      "Epoch 50/100\n",
      "650/650 [==============================] - 0s 197us/step - loss: 0.1439 - acc: 0.9354\n",
      "Epoch 51/100\n",
      "650/650 [==============================] - 0s 208us/step - loss: 0.1464 - acc: 0.9323\n",
      "Epoch 52/100\n",
      "650/650 [==============================] - 0s 162us/step - loss: 0.1448 - acc: 0.9323\n",
      "Epoch 53/100\n",
      "650/650 [==============================] - 0s 193us/step - loss: 0.1401 - acc: 0.9338\n",
      "Epoch 54/100\n",
      "650/650 [==============================] - 0s 245us/step - loss: 0.1397 - acc: 0.9323\n",
      "Epoch 55/100\n",
      "650/650 [==============================] - 0s 237us/step - loss: 0.1404 - acc: 0.9385\n",
      "Epoch 56/100\n",
      "650/650 [==============================] - 0s 236us/step - loss: 0.1374 - acc: 0.9262\n",
      "Epoch 57/100\n",
      "650/650 [==============================] - 0s 300us/step - loss: 0.1352 - acc: 0.9354\n",
      "Epoch 58/100\n",
      "650/650 [==============================] - 0s 223us/step - loss: 0.1343 - acc: 0.9323\n",
      "Epoch 59/100\n",
      "650/650 [==============================] - 0s 222us/step - loss: 0.1321 - acc: 0.9292\n",
      "Epoch 60/100\n",
      "650/650 [==============================] - 0s 220us/step - loss: 0.1281 - acc: 0.9354\n",
      "Epoch 61/100\n",
      "650/650 [==============================] - 0s 255us/step - loss: 0.1298 - acc: 0.9369\n",
      "Epoch 62/100\n",
      "650/650 [==============================] - 0s 229us/step - loss: 0.1219 - acc: 0.9338\n",
      "Epoch 63/100\n",
      "650/650 [==============================] - 0s 276us/step - loss: 0.1278 - acc: 0.9385\n",
      "Epoch 64/100\n",
      "650/650 [==============================] - 0s 232us/step - loss: 0.1240 - acc: 0.9354\n",
      "Epoch 65/100\n",
      "650/650 [==============================] - 0s 188us/step - loss: 0.1241 - acc: 0.9323\n",
      "Epoch 66/100\n",
      "650/650 [==============================] - 0s 208us/step - loss: 0.1215 - acc: 0.9369\n",
      "Epoch 67/100\n",
      "650/650 [==============================] - 0s 191us/step - loss: 0.1232 - acc: 0.9354\n",
      "Epoch 68/100\n",
      "650/650 [==============================] - 0s 208us/step - loss: 0.1144 - acc: 0.9385\n",
      "Epoch 69/100\n",
      "650/650 [==============================] - 0s 211us/step - loss: 0.1193 - acc: 0.9323\n",
      "Epoch 70/100\n",
      "650/650 [==============================] - 0s 204us/step - loss: 0.1191 - acc: 0.9354\n",
      "Epoch 71/100\n",
      "650/650 [==============================] - 0s 174us/step - loss: 0.1138 - acc: 0.9323\n",
      "Epoch 72/100\n",
      "650/650 [==============================] - 0s 192us/step - loss: 0.1154 - acc: 0.9385\n",
      "Epoch 73/100\n",
      "650/650 [==============================] - 0s 253us/step - loss: 0.1137 - acc: 0.9354\n",
      "Epoch 74/100\n",
      "650/650 [==============================] - 0s 207us/step - loss: 0.1126 - acc: 0.9308\n",
      "Epoch 75/100\n",
      "650/650 [==============================] - 0s 159us/step - loss: 0.1104 - acc: 0.9369\n",
      "Epoch 76/100\n",
      "650/650 [==============================] - 0s 181us/step - loss: 0.1123 - acc: 0.9400\n",
      "Epoch 77/100\n",
      "650/650 [==============================] - 0s 207us/step - loss: 0.1155 - acc: 0.9338\n",
      "Epoch 78/100\n",
      "650/650 [==============================] - 0s 227us/step - loss: 0.1096 - acc: 0.9354\n",
      "Epoch 79/100\n",
      "650/650 [==============================] - 0s 257us/step - loss: 0.1095 - acc: 0.9292\n",
      "Epoch 80/100\n",
      "650/650 [==============================] - 0s 184us/step - loss: 0.1161 - acc: 0.9323\n",
      "Epoch 81/100\n",
      "650/650 [==============================] - 0s 238us/step - loss: 0.1103 - acc: 0.9246\n",
      "Epoch 82/100\n",
      "650/650 [==============================] - 0s 292us/step - loss: 0.1118 - acc: 0.9292\n",
      "Epoch 83/100\n"
     ]
    },
    {
     "name": "stdout",
     "output_type": "stream",
     "text": [
      "650/650 [==============================] - 0s 257us/step - loss: 0.1120 - acc: 0.9369\n",
      "Epoch 84/100\n",
      "650/650 [==============================] - 0s 241us/step - loss: 0.1136 - acc: 0.9262\n",
      "Epoch 85/100\n",
      "650/650 [==============================] - 0s 204us/step - loss: 0.1116 - acc: 0.9308\n",
      "Epoch 86/100\n",
      "650/650 [==============================] - 0s 209us/step - loss: 0.1057 - acc: 0.9369\n",
      "Epoch 87/100\n",
      "650/650 [==============================] - 0s 226us/step - loss: 0.1084 - acc: 0.9385\n",
      "Epoch 88/100\n",
      "650/650 [==============================] - 0s 252us/step - loss: 0.1097 - acc: 0.9292\n",
      "Epoch 89/100\n",
      "650/650 [==============================] - 0s 278us/step - loss: 0.1069 - acc: 0.9338\n",
      "Epoch 90/100\n",
      "650/650 [==============================] - 0s 188us/step - loss: 0.1055 - acc: 0.9400\n",
      "Epoch 91/100\n",
      "650/650 [==============================] - 0s 138us/step - loss: 0.1066 - acc: 0.9308\n",
      "Epoch 92/100\n",
      "650/650 [==============================] - 0s 142us/step - loss: 0.1044 - acc: 0.9369\n",
      "Epoch 93/100\n",
      "650/650 [==============================] - 0s 139us/step - loss: 0.1061 - acc: 0.9338\n",
      "Epoch 94/100\n",
      "650/650 [==============================] - 0s 146us/step - loss: 0.1055 - acc: 0.9308\n",
      "Epoch 95/100\n",
      "650/650 [==============================] - 0s 154us/step - loss: 0.1098 - acc: 0.9369\n",
      "Epoch 96/100\n",
      "650/650 [==============================] - 0s 146us/step - loss: 0.1038 - acc: 0.9308\n",
      "Epoch 97/100\n",
      "650/650 [==============================] - 0s 154us/step - loss: 0.1105 - acc: 0.9338\n",
      "Epoch 98/100\n",
      "650/650 [==============================] - 0s 153us/step - loss: 0.1052 - acc: 0.9354\n",
      "Epoch 99/100\n",
      "650/650 [==============================] - 0s 169us/step - loss: 0.1050 - acc: 0.9369\n",
      "Epoch 100/100\n",
      "650/650 [==============================] - 0s 160us/step - loss: 0.1048 - acc: 0.9308\n"
     ]
    },
    {
     "data": {
      "text/plain": [
       "<keras.callbacks.History at 0x2e83257f400>"
      ]
     },
     "execution_count": 17,
     "metadata": {},
     "output_type": "execute_result"
    }
   ],
   "source": [
    "network.fit(X_train,y_train,epochs=100,batch_size=128)"
   ]
  },
  {
   "cell_type": "code",
   "execution_count": 18,
   "metadata": {},
   "outputs": [
    {
     "name": "stdout",
     "output_type": "stream",
     "text": [
      "150/150 [==============================] - 0s 467us/step\n"
     ]
    }
   ],
   "source": [
    "test_loss, test_acc = network.evaluate(X_test,y_test)"
   ]
  },
  {
   "cell_type": "code",
   "execution_count": 19,
   "metadata": {},
   "outputs": [
    {
     "name": "stdout",
     "output_type": "stream",
     "text": [
      "test acc: 0.11333333392937978\n"
     ]
    }
   ],
   "source": [
    "print('test acc:',test_acc)"
   ]
  },
  {
   "cell_type": "code",
   "execution_count": 20,
   "metadata": {},
   "outputs": [
    {
     "data": {
      "text/plain": [
       "5.98538366317749"
      ]
     },
     "execution_count": 20,
     "metadata": {},
     "output_type": "execute_result"
    }
   ],
   "source": [
    "test_loss"
   ]
  },
  {
   "cell_type": "code",
   "execution_count": null,
   "metadata": {
    "collapsed": true
   },
   "outputs": [],
   "source": []
  },
  {
   "cell_type": "code",
   "execution_count": null,
   "metadata": {
    "collapsed": true
   },
   "outputs": [],
   "source": []
  },
  {
   "cell_type": "code",
   "execution_count": null,
   "metadata": {
    "collapsed": true
   },
   "outputs": [],
   "source": []
  }
 ],
 "metadata": {
  "kernelspec": {
   "display_name": "Python 3",
   "language": "python",
   "name": "python3"
  },
  "language_info": {
   "codemirror_mode": {
    "name": "ipython",
    "version": 3
   },
   "file_extension": ".py",
   "mimetype": "text/x-python",
   "name": "python",
   "nbconvert_exporter": "python",
   "pygments_lexer": "ipython3",
   "version": "3.6.2"
  }
 },
 "nbformat": 4,
 "nbformat_minor": 2
}
