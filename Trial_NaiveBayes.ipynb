{
 "cells": [
  {
   "cell_type": "code",
   "execution_count": 16,
   "metadata": {
    "collapsed": true
   },
   "outputs": [],
   "source": [
    "# 1.Pre-Processing\n",
    "import  pk_pre_process as pk_pre\n",
    "pk_data,pk_label = pk_pre.pk_preprocess()"
   ]
  },
  {
   "cell_type": "code",
   "execution_count": 25,
   "metadata": {},
   "outputs": [],
   "source": [
    "# 2.Split train & test \n",
    "import split_pk_gene\n",
    "\n",
    "# first generation(RED & GREEN)\n",
    "data_train,label_train,data_test,label_test = split_pk_gene.split_pk_gene(\"first\",pk_data,pk_label)\n",
    "\n",
    "# 7th generation (SUN & MOON)\n",
    "data_train,label_train,data_test,label_test = split_pk_gene.split_pk_gene(\"sm\",pk_data,pk_label)\n"
   ]
  },
  {
   "cell_type": "code",
   "execution_count": 26,
   "metadata": {},
   "outputs": [
    {
     "data": {
      "text/plain": [
       "GaussianNB(priors=None)"
      ]
     },
     "execution_count": 26,
     "metadata": {},
     "output_type": "execute_result"
    }
   ],
   "source": [
    "# 3. Learning by NaiveBayes \n",
    "from sklearn.naive_bayes import GaussianNB\n",
    "clf = GaussianNB()\n",
    "clf.fit(data_train,label_train)"
   ]
  },
  {
   "cell_type": "code",
   "execution_count": 27,
   "metadata": {},
   "outputs": [
    {
     "name": "stdout",
     "output_type": "stream",
     "text": [
      "Accuracy rate = 0.44\n"
     ]
    }
   ],
   "source": [
    "# 4. Predict test data\n",
    "label_predict = clf.predict(data_test)\n",
    "\n",
    "label_test = np.array(label_test)\n",
    "\n",
    "#　Accuracy rate\n",
    "correct_cnt = 0\n",
    "for i in range(0,len(label_test)):\n",
    "    if (label_test[i] - label_predict[i]) == 0:\n",
    "        correct_cnt +=1\n",
    "\n",
    "score = round( correct_cnt  / len(label_test),2)\n",
    "print(\"Accuracy rate = %s\" % score)"
   ]
  },
  {
   "cell_type": "code",
   "execution_count": null,
   "metadata": {
    "collapsed": true
   },
   "outputs": [],
   "source": []
  }
 ],
 "metadata": {
  "kernelspec": {
   "display_name": "Python 3",
   "language": "python",
   "name": "python3"
  }
 },
 "nbformat": 4,
 "nbformat_minor": 2
}
