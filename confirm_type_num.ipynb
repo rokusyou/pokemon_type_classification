{
 "cells": [
  {
   "cell_type": "markdown",
   "metadata": {},
   "source": [
    "# Confirm Number (  single vs Multy type pokemon) "
   ]
  },
  {
   "cell_type": "code",
   "execution_count": 1,
   "metadata": {
    "collapsed": true
   },
   "outputs": [],
   "source": [
    "# 1, Import data\n",
    "import numpy as np\n",
    "import json\n",
    "\n",
    "f = open(r'.\\data\\pokemon_skills_utf8.json','r',encoding='utf-8')\n",
    "\n",
    "pk_zkan = json.load(f)\n",
    "f.close()"
   ]
  },
  {
   "cell_type": "code",
   "execution_count": 35,
   "metadata": {},
   "outputs": [
    {
     "data": {
      "text/plain": [
       "[83, 67, 0, 0, 0, 0, 0, 0, 0, 0]"
      ]
     },
     "execution_count": 35,
     "metadata": {},
     "output_type": "execute_result"
    }
   ],
   "source": [
    "# 2. first RED & GREEN\n",
    "type_hist= [0] * 10\n",
    "for i in range(1,150+1):\n",
    "    num = len(pk_zkan[str(i)][\"types\"])\n",
    "    type_hist[num-1] += 1\n",
    "    #print(num)\n",
    "\n",
    "type_hist"
   ]
  },
  {
   "cell_type": "code",
   "execution_count": 37,
   "metadata": {},
   "outputs": [
    {
     "data": {
      "text/plain": [
       "[31, 56, 0, 0, 0, 0, 0, 0, 0, 0]"
      ]
     },
     "execution_count": 37,
     "metadata": {},
     "output_type": "execute_result"
    }
   ],
   "source": [
    "# 3. SUN & MOON\n",
    "type_hist= [0] * 10\n",
    "for i in range(721,807+1):\n",
    "    num = len(pk_zkan[str(i)][\"types\"])\n",
    "    type_hist[num-1] += 1\n",
    "    #print(num)\n",
    "\n",
    "type_hist"
   ]
  },
  {
   "cell_type": "code",
   "execution_count": null,
   "metadata": {
    "collapsed": true
   },
   "outputs": [],
   "source": []
  }
 ],
 "metadata": {
  "kernelspec": {
   "display_name": "Python 3",
   "language": "python",
   "name": "python3"
  },
  "language_info": {
   "codemirror_mode": {
    "name": "ipython",
    "version": 3
   },
   "file_extension": ".py",
   "mimetype": "text/x-python",
   "name": "python",
   "nbconvert_exporter": "python",
   "pygments_lexer": "ipython3",
   "version": "3.6.2"
  }
 },
 "nbformat": 4,
 "nbformat_minor": 2
}
