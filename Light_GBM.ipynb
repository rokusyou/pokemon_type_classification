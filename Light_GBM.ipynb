{
 "cells": [
  {
   "cell_type": "code",
   "execution_count": 1,
   "metadata": {
    "collapsed": true
   },
   "outputs": [],
   "source": [
    "# 1.Pre-Processing\n",
    "import  pk_pre_process as pk_pre\n",
    "pk_data,pk_label = pk_pre.pk_preprocess()"
   ]
  },
  {
   "cell_type": "code",
   "execution_count": 2,
   "metadata": {
    "collapsed": true
   },
   "outputs": [],
   "source": [
    "# 2.Split train & test \n",
    "import split_pk_gene\n",
    "\n",
    "# first generation(RED & GREEN)\n",
    "X_train,y_train,X_test,y_test = split_pk_gene.split_pk_gene(\"first\",pk_data,pk_label)\n",
    "\n",
    "# 7th generation (SUN & MOON)\n",
    "X_train,y_train,X_test,y_test  = split_pk_gene.split_pk_gene(\"sm\",pk_data,pk_label)\n"
   ]
  },
  {
   "cell_type": "code",
   "execution_count": 4,
   "metadata": {},
   "outputs": [
    {
     "name": "stderr",
     "output_type": "stream",
     "text": [
      "C:\\Users\\yueki\\Anaconda3\\lib\\site-packages\\sklearn\\ensemble\\weight_boosting.py:29: DeprecationWarning: numpy.core.umath_tests is an internal NumPy module and should not be imported. It will be removed in a future NumPy release.\n",
      "  from numpy.core.umath_tests import inner1d\n"
     ]
    }
   ],
   "source": [
    "from sklearn.ensemble import RandomForestClassifier\n",
    "clf = RandomForestClassifier(n_estimators=100,max_depth=2,random_state=0)"
   ]
  },
  {
   "cell_type": "code",
   "execution_count": 5,
   "metadata": {
    "collapsed": true
   },
   "outputs": [],
   "source": [
    "clf.fit(X_train,y_train)\n",
    "y_pred= clf.predict(X_test)"
   ]
  },
  {
   "cell_type": "code",
   "execution_count": 6,
   "metadata": {},
   "outputs": [
    {
     "name": "stdout",
     "output_type": "stream",
     "text": [
      "Accuracy rate = 0.54\n"
     ]
    }
   ],
   "source": [
    "# 4. Predict test data\n",
    "label_predict = clf.predict(X_test)\n",
    "\n",
    "label_test = np.array(y_test)\n",
    "\n",
    "#　Accuracy rate\n",
    "correct_cnt = 0\n",
    "for i in range(0,len(label_test)):\n",
    "    if (label_test[i] - label_predict[i]) == 0:\n",
    "        correct_cnt +=1\n",
    "\n",
    "score = round( correct_cnt  / len(label_test),2)\n",
    "print(\"Accuracy rate = %s\" % score)"
   ]
  },
  {
   "cell_type": "code",
   "execution_count": null,
   "metadata": {
    "collapsed": true
   },
   "outputs": [],
   "source": []
  }
 ],
 "metadata": {
  "kernelspec": {
   "display_name": "Python 3",
   "language": "python",
   "name": "python3"
  },
  "language_info": {
   "codemirror_mode": {
    "name": "ipython",
    "version": 3
   },
   "file_extension": ".py",
   "mimetype": "text/x-python",
   "name": "python",
   "nbconvert_exporter": "python",
   "pygments_lexer": "ipython3",
   "version": "3.6.2"
  }
 },
 "nbformat": 4,
 "nbformat_minor": 2
}
